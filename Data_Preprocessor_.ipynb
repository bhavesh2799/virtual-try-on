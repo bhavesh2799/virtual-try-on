{
  "nbformat": 4,
  "nbformat_minor": 0,
  "metadata": {
    "colab": {
      "name": "Data Preprocessor .ipynb",
      "provenance": []
    },
    "kernelspec": {
      "name": "python3",
      "display_name": "Python 3"
    }
  },
  "cells": [
    {
      "cell_type": "code",
      "metadata": {
        "id": "Hs3LHvix8-5K",
        "colab": {
          "base_uri": "https://localhost:8080/",
          "height": 33
        },
        "outputId": "0bc1602d-07a6-4062-9dba-0b6d69acb9a7"
      },
      "source": [
        "%cd '/content/drive/My Drive/Data-Preprocessing-Virtual-Try-On'"
      ],
      "execution_count": null,
      "outputs": [
        {
          "output_type": "stream",
          "text": [
            "/content/drive/My Drive/Data-Preprocessing-Virtual-Try-On\n"
          ],
          "name": "stdout"
        }
      ]
    },
    {
      "cell_type": "code",
      "metadata": {
        "id": "va7qk74p-KhV"
      },
      "source": [
        "######## OPENPOSE KEYPOINTS"
      ],
      "execution_count": null,
      "outputs": []
    },
    {
      "cell_type": "code",
      "metadata": {
        "id": "KRHr1L4A-q71",
        "colab": {
          "base_uri": "https://localhost:8080/",
          "height": 151
        },
        "outputId": "6ba49736-13eb-4a12-a249-ab3955afd581"
      },
      "source": [
        "!git clone https://github.com/CMU-Perceptual-Computing-Lab/openpose"
      ],
      "execution_count": null,
      "outputs": [
        {
          "output_type": "stream",
          "text": [
            "Cloning into 'openpose'...\n",
            "remote: Enumerating objects: 17, done.\u001b[K\n",
            "remote: Counting objects: 100% (17/17), done.\u001b[K\n",
            "remote: Compressing objects: 100% (14/14), done.\u001b[K\n",
            "remote: Total 22654 (delta 5), reused 10 (delta 3), pack-reused 22637\u001b[K\n",
            "Receiving objects: 100% (22654/22654), 84.53 MiB | 13.94 MiB/s, done.\n",
            "Resolving deltas: 100% (17788/17788), done.\n",
            "Checking out files: 100% (573/573), done.\n"
          ],
          "name": "stdout"
        }
      ]
    },
    {
      "cell_type": "code",
      "metadata": {
        "id": "4bypXqRl-3CG",
        "colab": {
          "base_uri": "https://localhost:8080/",
          "height": 151
        },
        "outputId": "c6a577ed-be2b-4983-e2db-f1f06be20f56"
      },
      "source": [
        "%cd '/content/drive/My Drive/Data-Preprocessing-Virtual-Try-On/'\n",
        "!sudo apt-get install python3-dev\n",
        "!sudo pip3 install numpy opencv-python\n",
        "import os\n",
        "from os.path import exists, join, basename, splitext\n",
        "\n",
        "git_repo_url = 'https://github.com/CMU-Perceptual-Computing-Lab/openpose.git'\n",
        "project_name = splitext(basename(git_repo_url))[0]\n",
        "if not exists(project_name):\n",
        "  # see: https://github.com/CMU-Perceptual-Computing-Lab/openpose/issues/949\n",
        "  # install new CMake becaue of CUDA10\n",
        "  !wget -q https://cmake.org/files/v3.13/cmake-3.13.0-Linux-x86_64.tar.gz\n",
        "  !tar xfz cmake-3.13.0-Linux-x86_64.tar.gz --strip-components=1 -C /usr/local\n",
        "  # clone openpose\n",
        "  !git clone -q --depth 1 $git_repo_url\n",
        "  !sed -i 's/execute_process(COMMAND git checkout master WORKING_DIRECTORY ${CMAKE_SOURCE_DIR}\\/3rdparty\\/caffe)/execute_process(COMMAND git checkout f019d0dfe86f49d1140961f8c7dec22130c83154 WORKING_DIRECTORY ${CMAKE_SOURCE_DIR}\\/3rdparty\\/caffe)/g' openpose/CMakeLists.txt\n",
        "  # install system dependencies\n",
        "  !apt-get -qq install -y libatlas-base-dev libprotobuf-dev libleveldb-dev libsnappy-dev libhdf5-serial-dev protobuf-compiler libgflags-dev libgoogle-glog-dev liblmdb-dev opencl-headers ocl-icd-opencl-dev libviennacl-dev\n",
        "  # install python dependencies\n",
        "  !pip install -q youtube-dl\n",
        "  # build openpose\n",
        "  !cd openpose && rm -rf build || true && mkdir build && cd build && cmake .. && make -j`nproc`"
      ],
      "execution_count": null,
      "outputs": [
        {
          "output_type": "stream",
          "text": [
            "/content/drive/My Drive/Data-Preprocessing-Virtual-Try-On\n",
            "Reading package lists... Done\n",
            "Building dependency tree       \n",
            "Reading state information... Done\n",
            "python3-dev is already the newest version (3.6.7-1~18.04).\n",
            "0 upgraded, 0 newly installed, 0 to remove and 21 not upgraded.\n",
            "Requirement already satisfied: numpy in /usr/local/lib/python3.6/dist-packages (1.18.5)\n",
            "Requirement already satisfied: opencv-python in /usr/local/lib/python3.6/dist-packages (4.1.2.30)\n"
          ],
          "name": "stdout"
        }
      ]
    },
    {
      "cell_type": "code",
      "metadata": {
        "id": "fkOdbqY9-3Gl",
        "colab": {
          "base_uri": "https://localhost:8080/",
          "height": 67
        },
        "outputId": "9f7525b0-5722-43e4-82d0-062e53ee3b8b"
      },
      "source": [
        "%cd '/content/drive/My Drive/Data-Preprocessing-Virtual-Try-On/openpose/examples/tutorial_api_python'\n",
        "%cd openpose && ./build/examples/openpose/openpose.bin --video ../video.mp4 --write_json ./output/ --display 0  --write_video ../openpose.avi\n",
        "\n",
        "!python3 02_whole_body_from_image.py\n"
      ],
      "execution_count": null,
      "outputs": [
        {
          "output_type": "stream",
          "text": [
            "/content/drive/My Drive/Data-Preprocessing-Virtual-Try-On/openpose/examples/tutorial_api_python\n",
            "Error: OpenPose library could not be found. Did you enable `BUILD_PYTHON` in CMake and have this Python script in the right folder?\n",
            "cannot import name 'pyopenpose'\n"
          ],
          "name": "stdout"
        }
      ]
    },
    {
      "cell_type": "code",
      "metadata": {
        "id": "D8Lb6UK4-3F-"
      },
      "source": [
        ""
      ],
      "execution_count": null,
      "outputs": []
    },
    {
      "cell_type": "code",
      "metadata": {
        "id": "jfuc6uJL-3Bd"
      },
      "source": [
        ""
      ],
      "execution_count": null,
      "outputs": []
    },
    {
      "cell_type": "code",
      "metadata": {
        "id": "yF1Vh7mX9U2q"
      },
      "source": [
        "######## SEMANTIC PARSING"
      ],
      "execution_count": null,
      "outputs": []
    },
    {
      "cell_type": "code",
      "metadata": {
        "id": "NzX9Omx_KZZM",
        "colab": {
          "base_uri": "https://localhost:8080/",
          "height": 134
        },
        "outputId": "213426e6-9a71-4565-f67a-0716fb491e0f"
      },
      "source": [
        "%cd '/content/drive/My Drive/Data-Preprocessing-Virtual-Try-On/'\n",
        "!git clone https://github.com/Engineering-Course/CIHP_PGN\n"
      ],
      "execution_count": null,
      "outputs": [
        {
          "output_type": "stream",
          "text": [
            "/content/drive/My Drive/Data-Preprocessing-Virtual-Try-On\n",
            "Cloning into 'CIHP_PGN'...\n",
            "remote: Enumerating objects: 4363, done.\u001b[K\n",
            "remote: Total 4363 (delta 0), reused 0 (delta 0), pack-reused 4363\u001b[K\n",
            "Receiving objects: 100% (4363/4363), 830.35 KiB | 1.05 MiB/s, done.\n",
            "Resolving deltas: 100% (705/705), done.\n",
            "Checking out files: 100% (5057/5057), done.\n"
          ],
          "name": "stdout"
        }
      ]
    },
    {
      "cell_type": "code",
      "metadata": {
        "id": "ucKYcZaZvFxf"
      },
      "source": [
        "!cp '/content/drive/My Drive/Data-Preprocessing-Virtual-Try-On/$HOME/datasets/CIHP/edges/0002190.png' '/content/drive/My Drive/Data-Preprocessing-Virtual-Try-On/$HOME/datasets/CIHP'"
      ],
      "execution_count": null,
      "outputs": []
    },
    {
      "cell_type": "code",
      "metadata": {
        "id": "Uo8jzXxFvOoH"
      },
      "source": [
        "!mv "
      ],
      "execution_count": null,
      "outputs": []
    },
    {
      "cell_type": "code",
      "metadata": {
        "id": "rNUi_hWfKZqL",
        "colab": {
          "base_uri": "https://localhost:8080/",
          "height": 1000
        },
        "outputId": "c30025f2-efd3-439a-eeb3-7eded7bda258"
      },
      "source": [
        "%cd '/content/drive/My Drive/Data-Preprocessing-Virtual-Try-On/$HOME'\n",
        "%tensorflow_version 1.x\n",
        "!python test_pgn.py"
      ],
      "execution_count": null,
      "outputs": [
        {
          "output_type": "stream",
          "text": [
            "/content/drive/My Drive/Data-Preprocessing-Virtual-Try-On/$HOME\n",
            "WARNING:tensorflow:\n",
            "The TensorFlow contrib module will not be included in TensorFlow 2.0.\n",
            "For more information, please see:\n",
            "  * https://github.com/tensorflow/community/blob/master/rfcs/20180907-contrib-sunset.md\n",
            "  * https://github.com/tensorflow/addons\n",
            "  * https://github.com/tensorflow/io (for I/O related ops)\n",
            "If you depend on functionality not listed there, please file an issue.\n",
            "\n",
            "WARNING:tensorflow:From /content/drive/My Drive/Data-Preprocessing-Virtual-Try-On/$HOME/utils/image_reader.py:235: slice_input_producer (from tensorflow.python.training.input) is deprecated and will be removed in a future version.\n",
            "Instructions for updating:\n",
            "Queue-based input pipelines have been replaced by `tf.data`. Use `tf.data.Dataset.from_tensor_slices(tuple(tensor_list)).shuffle(tf.shape(input_tensor, out_type=tf.int64)[0]).repeat(num_epochs)`. If `shuffle=False`, omit the `.shuffle(...)`.\n",
            "WARNING:tensorflow:From /tensorflow-1.15.2/python3.6/tensorflow_core/python/training/input.py:373: range_input_producer (from tensorflow.python.training.input) is deprecated and will be removed in a future version.\n",
            "Instructions for updating:\n",
            "Queue-based input pipelines have been replaced by `tf.data`. Use `tf.data.Dataset.range(limit).shuffle(limit).repeat(num_epochs)`. If `shuffle=False`, omit the `.shuffle(...)`.\n",
            "WARNING:tensorflow:From /tensorflow-1.15.2/python3.6/tensorflow_core/python/training/input.py:319: input_producer (from tensorflow.python.training.input) is deprecated and will be removed in a future version.\n",
            "Instructions for updating:\n",
            "Queue-based input pipelines have been replaced by `tf.data`. Use `tf.data.Dataset.from_tensor_slices(input_tensor).shuffle(tf.shape(input_tensor, out_type=tf.int64)[0]).repeat(num_epochs)`. If `shuffle=False`, omit the `.shuffle(...)`.\n",
            "WARNING:tensorflow:From /tensorflow-1.15.2/python3.6/tensorflow_core/python/training/input.py:189: limit_epochs (from tensorflow.python.training.input) is deprecated and will be removed in a future version.\n",
            "Instructions for updating:\n",
            "Queue-based input pipelines have been replaced by `tf.data`. Use `tf.data.Dataset.from_tensors(tensor).repeat(num_epochs)`.\n",
            "WARNING:tensorflow:From /tensorflow-1.15.2/python3.6/tensorflow_core/python/training/input.py:198: QueueRunner.__init__ (from tensorflow.python.training.queue_runner_impl) is deprecated and will be removed in a future version.\n",
            "Instructions for updating:\n",
            "To construct input pipelines, use the `tf.data` module.\n",
            "WARNING:tensorflow:From /tensorflow-1.15.2/python3.6/tensorflow_core/python/training/input.py:198: add_queue_runner (from tensorflow.python.training.queue_runner_impl) is deprecated and will be removed in a future version.\n",
            "Instructions for updating:\n",
            "To construct input pipelines, use the `tf.data` module.\n",
            "WARNING:tensorflow:From /content/drive/My Drive/Data-Preprocessing-Virtual-Try-On/$HOME/utils/image_reader.py:175: The name tf.read_file is deprecated. Please use tf.io.read_file instead.\n",
            "\n",
            "WARNING:tensorflow:From /tensorflow-1.15.2/python3.6/tensorflow_core/python/util/dispatch.py:180: calling expand_dims (from tensorflow.python.ops.array_ops) with dim is deprecated and will be removed in a future version.\n",
            "Instructions for updating:\n",
            "Use the `axis` argument instead\n",
            "WARNING:tensorflow:From test_pgn.py:41: to_float (from tensorflow.python.ops.math_ops) is deprecated and will be removed in a future version.\n",
            "Instructions for updating:\n",
            "Use `tf.cast` instead.\n",
            "WARNING:tensorflow:From test_pgn.py:42: The name tf.image.resize_images is deprecated. Please use tf.image.resize instead.\n",
            "\n",
            "WARNING:tensorflow:From test_pgn.py:42: to_int32 (from tensorflow.python.ops.math_ops) is deprecated and will be removed in a future version.\n",
            "Instructions for updating:\n",
            "Use `tf.cast` instead.\n",
            "WARNING:tensorflow:From test_pgn.py:49: The name tf.variable_scope is deprecated. Please use tf.compat.v1.variable_scope instead.\n",
            "\n",
            "WARNING:tensorflow:From /content/drive/My Drive/Data-Preprocessing-Virtual-Try-On/$HOME/kaffe/tensorflow/network.py:45: The name tf.placeholder_with_default is deprecated. Please use tf.compat.v1.placeholder_with_default instead.\n",
            "\n",
            "WARNING:tensorflow:From /content/drive/My Drive/Data-Preprocessing-Virtual-Try-On/$HOME/kaffe/tensorflow/network.py:104: The name tf.get_variable is deprecated. Please use tf.compat.v1.get_variable instead.\n",
            "\n",
            "WARNING:tensorflow:From /content/drive/My Drive/Data-Preprocessing-Virtual-Try-On/$HOME/kaffe/tensorflow/network.py:205: The name tf.nn.max_pool is deprecated. Please use tf.nn.max_pool2d instead.\n",
            "\n",
            "WARNING:tensorflow:From /content/drive/My Drive/Data-Preprocessing-Virtual-Try-On/$HOME/kaffe/tensorflow/network.py:295: The name tf.nn.avg_pool is deprecated. Please use tf.nn.avg_pool2d instead.\n",
            "\n",
            "WARNING:tensorflow:From /content/drive/My Drive/Data-Preprocessing-Virtual-Try-On/$HOME/kaffe/tensorflow/network.py:302: The name tf.image.resize_bilinear is deprecated. Please use tf.compat.v1.image.resize_bilinear instead.\n",
            "\n",
            "WARNING:tensorflow:From /content/drive/My Drive/Data-Preprocessing-Virtual-Try-On/$HOME/kaffe/tensorflow/network.py:283: calling dropout (from tensorflow.python.ops.nn_ops) with keep_prob is deprecated and will be removed in a future version.\n",
            "Instructions for updating:\n",
            "Please use `rate` instead of `keep_prob`. Rate should be set to `rate = 1 - keep_prob`.\n",
            "WARNING:tensorflow:From /tensorflow-1.15.2/python3.6/tensorflow_core/python/ops/metrics_impl.py:1177: where (from tensorflow.python.ops.array_ops) is deprecated and will be removed in a future version.\n",
            "Instructions for updating:\n",
            "Use tf.where in 2.0, which has the same broadcast rule as np.where\n",
            "WARNING:tensorflow:From /tensorflow-1.15.2/python3.6/tensorflow_core/python/ops/metrics_impl.py:1178: div (from tensorflow.python.ops.math_ops) is deprecated and will be removed in a future version.\n",
            "Instructions for updating:\n",
            "Deprecated in favor of operator or tf.math.divide.\n",
            "WARNING:tensorflow:From test_pgn.py:141: streaming_accuracy (from tensorflow.contrib.metrics.python.ops.metric_ops) is deprecated and will be removed in a future version.\n",
            "Instructions for updating:\n",
            "Please switch to tf.metrics.accuracy. Note that the order of the labels and predictions arguments has been switched.\n",
            "WARNING:tensorflow:From test_pgn.py:144: streaming_recall (from tensorflow.contrib.metrics.python.ops.metric_ops) is deprecated and will be removed in a future version.\n",
            "Instructions for updating:\n",
            "Please switch to tf.metrics.recall. Note that the order of the labels and predictions arguments has been switched.\n",
            "WARNING:tensorflow:From test_pgn.py:145: streaming_precision (from tensorflow.contrib.metrics.python.ops.metric_ops) is deprecated and will be removed in a future version.\n",
            "Instructions for updating:\n",
            "Please switch to tf.metrics.precision. Note that the order of the labels and predictions arguments has been switched.\n",
            "WARNING:tensorflow:From test_pgn.py:150: The name tf.global_variables is deprecated. Please use tf.compat.v1.global_variables instead.\n",
            "\n",
            "WARNING:tensorflow:From test_pgn.py:152: The name tf.ConfigProto is deprecated. Please use tf.compat.v1.ConfigProto instead.\n",
            "\n",
            "WARNING:tensorflow:From test_pgn.py:154: The name tf.Session is deprecated. Please use tf.compat.v1.Session instead.\n",
            "\n",
            "2020-10-28 13:16:43.647247: I tensorflow/core/platform/profile_utils/cpu_utils.cc:94] CPU Frequency: 2200000000 Hz\n",
            "2020-10-28 13:16:43.647530: I tensorflow/compiler/xla/service/service.cc:168] XLA service 0x2e632c0 initialized for platform Host (this does not guarantee that XLA will be used). Devices:\n",
            "2020-10-28 13:16:43.647568: I tensorflow/compiler/xla/service/service.cc:176]   StreamExecutor device (0): Host, Default Version\n",
            "2020-10-28 13:16:43.650383: I tensorflow/stream_executor/platform/default/dso_loader.cc:44] Successfully opened dynamic library libcuda.so.1\n",
            "2020-10-28 13:16:43.660601: E tensorflow/stream_executor/cuda/cuda_driver.cc:318] failed call to cuInit: CUDA_ERROR_NO_DEVICE: no CUDA-capable device is detected\n",
            "2020-10-28 13:16:43.660654: I tensorflow/stream_executor/cuda/cuda_diagnostics.cc:156] kernel driver does not appear to be running on this host (d24862b6909f): /proc/driver/nvidia/version does not exist\n",
            "WARNING:tensorflow:From test_pgn.py:155: The name tf.global_variables_initializer is deprecated. Please use tf.compat.v1.global_variables_initializer instead.\n",
            "\n",
            "WARNING:tensorflow:From test_pgn.py:158: The name tf.local_variables_initializer is deprecated. Please use tf.compat.v1.local_variables_initializer instead.\n",
            "\n",
            "WARNING:tensorflow:From test_pgn.py:161: The name tf.train.Saver is deprecated. Please use tf.compat.v1.train.Saver instead.\n",
            "\n",
            "Restored model parameters from model.ckpt-593292\n",
            " [*] Load SUCCESS\n",
            "WARNING:tensorflow:From test_pgn.py:169: start_queue_runners (from tensorflow.python.training.queue_runner_impl) is deprecated and will be removed in a future version.\n",
            "Instructions for updating:\n",
            "To construct input pipelines, use the `tf.data` module.\n",
            "step 0\n",
            "./datasets/CIHP/images/0002190.jpg\n",
            "2020-10-28 13:18:14.140994: W tensorflow/core/framework/cpu_allocator_impl.cc:81] Allocation of 70705152 exceeds 10% of system memory.\n",
            "2020-10-28 13:18:14.583631: W tensorflow/core/framework/cpu_allocator_impl.cc:81] Allocation of 70705152 exceeds 10% of system memory.\n",
            "2020-10-28 13:18:14.681449: W tensorflow/core/framework/cpu_allocator_impl.cc:81] Allocation of 70705152 exceeds 10% of system memory.\n",
            "2020-10-28 13:18:15.125506: W tensorflow/core/framework/cpu_allocator_impl.cc:81] Allocation of 70705152 exceeds 10% of system memory.\n",
            "2020-10-28 13:18:15.542627: W tensorflow/core/framework/cpu_allocator_impl.cc:81] Allocation of 70705152 exceeds 10% of system memory.\n",
            "Mean IoU: 0.6851, Mean Acc: 0.9533\n",
            "Recall: 0.9916, Precision: 0.2610, F1 score: 0.4133\n"
          ],
          "name": "stdout"
        }
      ]
    },
    {
      "cell_type": "code",
      "metadata": {
        "id": "-9l8GrOd9bGX"
      },
      "source": [
        "######## CLOTH MASK"
      ],
      "execution_count": null,
      "outputs": []
    },
    {
      "cell_type": "code",
      "metadata": {
        "id": "tkCcP6-TZcrv",
        "colab": {
          "base_uri": "https://localhost:8080/",
          "height": 285
        },
        "outputId": "8b47088a-304b-4923-9f4a-277474640941"
      },
      "source": [
        "# import the necessary packages\n",
        "import numpy as np\n",
        "import argparse\n",
        "import time\n",
        "import cv2\n",
        "import os\n",
        "import matplotlib.pyplot as plt\n",
        "%matplotlib inline\n",
        "# construct the argument parser and parse the arguments\n",
        "#ap = argparse.ArgumentParser()\n",
        "#ap.add_argument(\"-i\", \"--image\", type=str,\n",
        "#\tdefault=os.path.sep.join([\"/content/drive/My Drive/Data-Preprocessing-Virtual-Try-On/grabcut-product-images\", \"s-1.jpg\"]),\n",
        "#\thelp=\"path to input image that we'll apply GrabCut to\")\n",
        "#ap.add_argument(\"-c\", \"--iter\", type=int, default=10,\n",
        "#\thelp=\"# of GrabCut iterations (larger value => slower runtime)\")\n",
        "#args = vars(ap.parse_args())\n",
        "\n",
        "# load the input image from disk and then allocate memory for the\n",
        "# output mask generated by GrabCut -- this mask should hae the same\n",
        "# spatial dimensions as the input image\n",
        "#image = cv2.imread(args[\"image\"])\n",
        "image = cv2.resize(cv2.imread('/content/drive/My Drive/Data-Preprocessing-Virtual-Try-On/grabcut-product-images/s-4.jpg'),(650,650))\n",
        "mask = np.zeros(image.shape[:2], dtype=\"uint8\")\n",
        "\n",
        "# define the bounding box coordinates that approximately define my\n",
        "# face and neck region (i.e., all visible skin)\n",
        "rect = (10, 10, 625, 625)\n",
        "\n",
        "# allocate memory for two arrays that the GrabCut algorithm internally\n",
        "# uses when segmenting the foreground from the background\n",
        "fgModel = np.zeros((1, 65), dtype=\"float\")\n",
        "bgModel = np.zeros((1, 65), dtype=\"float\")\n",
        "# apply GrabCut using the the bounding box segmentation method\n",
        "start = time.time()\n",
        "(mask, bgModel, fgModel) = cv2.grabCut(image, mask, rect, bgModel,\n",
        "\tfgModel, iterCount=10, mode=cv2.GC_INIT_WITH_RECT)\n",
        "end = time.time()\n",
        "print(\"[INFO] applying GrabCut took {:.2f} seconds\".format(end - start))\n",
        "\n",
        "# the output mask has for possible output values, marking each pixel\n",
        "# in the mask as (1) definite background, (2) definite foreground,\n",
        "# (3) probable background, and (4) probable foreground\n",
        "#values = (\n",
        "#\t(\"Definite Background\", cv2.GC_BGD),\n",
        "#\t(\"Probable Background\", cv2.GC_PR_BGD),\n",
        "#\t(\"Definite Foreground\", cv2.GC_FGD),\n",
        "#\t(\"Probable Foreground\", cv2.GC_PR_FGD),\n",
        "#)\n",
        "# loop over the possible GrabCut mask values\n",
        "#for (name, value) in values:\n",
        "\t# construct a mask that for the current value\n",
        "#\tprint(\"[INFO] showing mask for '{}'\".format(name))\n",
        "#\tvalueMask = (mask == value).astype(\"uint8\") * 255\n",
        "\t# display the mask so we can visualize it\n",
        "#\tplt.imshow(cv2.cvtColor(valueMask,cv2.COLOR_BGR2RGB))\n",
        "#\tplt.show()\n",
        "\n",
        "# we'll set all definite background and probable background pixels\n",
        "# to 0 while definite foreground and probable foreground pixels are\n",
        "# set to 1\n",
        "#outputMask = np.where((mask == cv2.GC_BGD) | (mask == cv2.GC_PR_BGD),\t0, 1)\n",
        "# scale the mask from the range [0, 1] to [0, 255]\n",
        "#outputMask = (outputMask * 255).astype(\"uint8\")\n",
        "\n",
        "# apply a bitwise AND to the image using our mask generated by\n",
        "# GrabCut to generate our final output image\n",
        "\n",
        "#output = cv2.bitwise_and(image, image, mask=outputMask)\n",
        "#plt.imshow(cv2.cvtColor(output,cv2.COLOR_BGR2RGB))\n",
        "#plt.show()\n",
        "\n",
        "value = cv2.GC_PR_FGD\n",
        "valueMask = (mask == value).astype(\"uint8\") * 255\n",
        "plt.imshow(cv2.cvtColor(valueMask,cv2.COLOR_BGR2RGB))\n",
        "\n",
        "plt.show()"
      ],
      "execution_count": null,
      "outputs": [
        {
          "output_type": "stream",
          "text": [
            "[INFO] applying GrabCut took 5.42 seconds\n"
          ],
          "name": "stdout"
        },
        {
          "output_type": "display_data",
          "data": {
            "image/png": "[encoded data removed]",
            "text/plain": [
              "<Figure size 432x288 with 1 Axes>"
            ]
          },
          "metadata": {
            "tags": [],
            "needs_background": "light"
          }
        }
      ]
    },
    {
      "cell_type": "code",
      "metadata": {
        "id": "D-Ewwb7IedeE"
      },
      "source": [
        ""
      ],
      "execution_count": null,
      "outputs": []
    }
  ]
}